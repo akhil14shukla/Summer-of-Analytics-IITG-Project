{
 "cells": [
  {
   "cell_type": "code",
   "execution_count": 3,
   "metadata": {},
   "outputs": [],
   "source": [
    "import pandas as pd \n",
    "import numpy as np \n",
    "import matplotlib.pyplot as plt \n",
    "import seaborn as sns\n",
    "from sklearn.model_selection import train_test_split\n",
    "from tensorflow.keras.utils import to_categorical"
   ]
  },
  {
   "cell_type": "code",
   "execution_count": 4,
   "metadata": {},
   "outputs": [],
   "source": [
    "df = pd.read_csv(\"Train_Data.csv\")\n",
    "test=pd.read_csv(\"Test_Data.csv\")"
   ]
  },
  {
   "cell_type": "code",
   "execution_count": 5,
   "metadata": {},
   "outputs": [],
   "source": [
    "from sklearn.preprocessing import LabelBinarizer, LabelEncoder\n",
    "le = LabelEncoder()\n",
    "# lb = LabelBinarizer()\n",
    "df['adgroup'] = le.fit_transform(df['adgroup'])\n",
    "test['adgroup']=le.transform(test['adgroup'])\n",
    "# df = df.join(pd.DataFrame(lb.fit_transform(df['adgroup'])))\n",
    "# test = test.join(pd.DataFrame(lb.transform(test['adgroup'])))\n",
    "# df.drop(['adgroup'],axis=1)\n",
    "# test.drop(['adgroup'],axis=1)\n",
    "df = df.set_index(df['date'])\n",
    "test = test.set_index(test['date'])\n",
    "\n",
    "df.drop(['date', 'campaign'],axis=1,inplace=True)\n",
    "test.drop(['date','campaign'],axis=1,inplace=True)\n"
   ]
  },
  {
   "cell_type": "code",
   "execution_count": 6,
   "metadata": {},
   "outputs": [
    {
     "output_type": "stream",
     "name": "stderr",
     "text": [
      "<ipython-input-6-f954e414b656>:2: SettingWithCopyWarning: \n",
      "A value is trying to be set on a copy of a slice from a DataFrame\n",
      "\n",
      "See the caveats in the documentation: https://pandas.pydata.org/pandas-docs/stable/user_guide/indexing.html#returning-a-view-versus-a-copy\n",
      "  df['ad'][i] = int(df['ad'][i][3:])\n",
      "<ipython-input-6-f954e414b656>:4: SettingWithCopyWarning: \n",
      "A value is trying to be set on a copy of a slice from a DataFrame\n",
      "\n",
      "See the caveats in the documentation: https://pandas.pydata.org/pandas-docs/stable/user_guide/indexing.html#returning-a-view-versus-a-copy\n",
      "  test['ad'][i]=int(test['ad'][i][3:])\n"
     ]
    }
   ],
   "source": [
    "for i in range(len(df)):\n",
    "    df['ad'][i] = int(df['ad'][i][3:])\n",
    "for i in range(len(test)):\n",
    "    test['ad'][i]=int(test['ad'][i][3:])\n",
    "df['ad']=pd.to_numeric(df['ad'])\n",
    "test['ad']=pd.to_numeric(test['ad'])\n",
    "df.drop(['ad'],axis=1,inplace=True)"
   ]
  },
  {
   "cell_type": "code",
   "execution_count": 7,
   "metadata": {},
   "outputs": [],
   "source": [
    "df['CTR']=df['clicks']/df['impressions']\n",
    "df['CPC']=df['cost']/df['clicks']\n",
    "df['CPA']=df['cost']/df['conversions']\n",
    "\n",
    "test['CTR']=test['clicks']/test['impressions']\n",
    "test['CPC']=test['cost']/test['clicks']\n",
    "test['CPA']=test['cost']/test['conversions']\n",
    "\n",
    "df['CPC'].fillna(0,inplace=True)\n",
    "df['CPA'].fillna(0,inplace=True)\n",
    "\n",
    "test['CPC'].fillna(0,inplace=True)\n",
    "test['CPA'].fillna(0,inplace=True)\n",
    "\n",
    "df.replace([np.inf], 65,inplace=True)\n",
    "test.replace([np.inf], 65,inplace=True)"
   ]
  },
  {
   "cell_type": "code",
   "execution_count": 8,
   "metadata": {},
   "outputs": [],
   "source": [
    "# y = df['revenue']\n",
    "# df.drop(['revenue','campaign'], axis=1,inplace=True)\n",
    "# test=np.array(test)\n",
    "# df = np.array(df)"
   ]
  },
  {
   "cell_type": "code",
   "execution_count": 9,
   "metadata": {},
   "outputs": [],
   "source": [
    "# df = np.array(df)\n",
    "x_train, x_test = train_test_split(df)"
   ]
  },
  {
   "cell_type": "code",
   "execution_count": 8,
   "metadata": {},
   "outputs": [],
   "source": [
    "from sklearn.preprocessing import MinMaxScaler\n",
    "from tensorflow.keras.layers import Dense, Dropout, LSTM\n",
    "from tensorflow.keras.models import Sequential"
   ]
  },
  {
   "cell_type": "code",
   "execution_count": 9,
   "metadata": {},
   "outputs": [],
   "source": [
    "from tensorflow.keras import backend\n",
    "import tensorflow as tf\n",
    " \n",
    "def rmse(y_true, y_pred):\n",
    "\treturn backend.sqrt(backend.mean(backend.square(y_pred - y_true), axis=-1))"
   ]
  },
  {
   "cell_type": "code",
   "execution_count": 10,
   "metadata": {
    "tags": []
   },
   "outputs": [
    {
     "ename": "NameError",
     "evalue": "name 'x_train' is not defined",
     "output_type": "error",
     "traceback": [
      "\u001b[0;31m---------------------------------------------------------------------------\u001b[0m",
      "\u001b[0;31mNameError\u001b[0m                                 Traceback (most recent call last)",
      "\u001b[0;32m<ipython-input-10-4f94ecb90175>\u001b[0m in \u001b[0;36m<module>\u001b[0;34m\u001b[0m\n\u001b[0;32m----> 1\u001b[0;31m \u001b[0mx_train\u001b[0m\u001b[0;34m=\u001b[0m\u001b[0mx_train\u001b[0m\u001b[0;34m.\u001b[0m\u001b[0mreshape\u001b[0m\u001b[0;34m(\u001b[0m\u001b[0mx_train\u001b[0m\u001b[0;34m.\u001b[0m\u001b[0mshape\u001b[0m\u001b[0;34m[\u001b[0m\u001b[0;36m0\u001b[0m\u001b[0;34m]\u001b[0m\u001b[0;34m,\u001b[0m\u001b[0mx_train\u001b[0m\u001b[0;34m.\u001b[0m\u001b[0mshape\u001b[0m\u001b[0;34m[\u001b[0m\u001b[0;36m1\u001b[0m\u001b[0;34m]\u001b[0m\u001b[0;34m,\u001b[0m\u001b[0;36m1\u001b[0m\u001b[0;34m)\u001b[0m\u001b[0;34m\u001b[0m\u001b[0;34m\u001b[0m\u001b[0m\n\u001b[0m\u001b[1;32m      2\u001b[0m \u001b[0mmodel\u001b[0m \u001b[0;34m=\u001b[0m \u001b[0mSequential\u001b[0m\u001b[0;34m(\u001b[0m\u001b[0;34m)\u001b[0m                \u001b[0;31m# could make units 50, for better prediction\u001b[0m\u001b[0;34m\u001b[0m\u001b[0;34m\u001b[0m\u001b[0m\n\u001b[1;32m      3\u001b[0m \u001b[0;31m# model.add(Dense(units=40,activation='selu'))\u001b[0m\u001b[0;34m\u001b[0m\u001b[0;34m\u001b[0m\u001b[0;34m\u001b[0m\u001b[0m\n\u001b[1;32m      4\u001b[0m \u001b[0mmodel\u001b[0m\u001b[0;34m.\u001b[0m\u001b[0madd\u001b[0m\u001b[0;34m(\u001b[0m\u001b[0mLSTM\u001b[0m\u001b[0;34m(\u001b[0m\u001b[0munits\u001b[0m\u001b[0;34m=\u001b[0m\u001b[0;36m40\u001b[0m\u001b[0;34m,\u001b[0m\u001b[0mactivation\u001b[0m\u001b[0;34m=\u001b[0m\u001b[0;34m'tanh'\u001b[0m\u001b[0;34m,\u001b[0m\u001b[0minput_shape\u001b[0m\u001b[0;34m=\u001b[0m\u001b[0;34m(\u001b[0m\u001b[0mx_train\u001b[0m\u001b[0;34m.\u001b[0m\u001b[0mshape\u001b[0m\u001b[0;34m[\u001b[0m\u001b[0;36m1\u001b[0m\u001b[0;34m]\u001b[0m\u001b[0;34m,\u001b[0m\u001b[0;36m1\u001b[0m\u001b[0;34m)\u001b[0m\u001b[0;34m)\u001b[0m\u001b[0;34m)\u001b[0m\u001b[0;34m\u001b[0m\u001b[0;34m\u001b[0m\u001b[0m\n\u001b[1;32m      5\u001b[0m \u001b[0mmodel\u001b[0m\u001b[0;34m.\u001b[0m\u001b[0madd\u001b[0m\u001b[0;34m(\u001b[0m\u001b[0mDropout\u001b[0m\u001b[0;34m(\u001b[0m\u001b[0;36m0.4\u001b[0m\u001b[0;34m)\u001b[0m\u001b[0;34m)\u001b[0m\u001b[0;34m\u001b[0m\u001b[0;34m\u001b[0m\u001b[0m\n",
      "\u001b[0;31mNameError\u001b[0m: name 'x_train' is not defined"
     ]
    }
   ],
   "source": [
    "x_train=x_train.reshape(x_train.shape[0],x_train.shape[1],1)\n",
    "model = Sequential()                # could make units 50, for better prediction\n",
    "# model.add(Dense(units=40,activation='selu'))\n",
    "model.add(LSTM(units=40,activation='tanh',input_shape=(x_train.shape[1],1)))\n",
    "model.add(Dropout(0.4))\n",
    "model.add(Dense(units=40,activation='selu'))\n",
    "model.add(Dropout(0.4))\n",
    "# model.add(LSTM(units=40,activation='tanh'))\n",
    "# model.add(Dense(units=30,activation='relu'))\n",
    "model.add(Dense(units=30,activation='relu'))\n",
    "model.add(Dropout(0.4))\n",
    "model.add(Dense(units=40,activation='selu'))\n",
    "model.add(Dropout(0.4))\n",
    "model.add(Dense(units=40,activation='selu'))\n",
    "\n",
    "model.add(Dense(1,activation='relu'))\n",
    "model.compile(optimizer=tf.keras.optimizers.Adam(0.001), loss='mean_squared_error',metrics=[rmse])\n",
    "model.fit(x_train,y_train, epochs=30, batch_size=60)"
   ]
  },
  {
   "cell_type": "code",
   "execution_count": null,
   "metadata": {},
   "outputs": [],
   "source": [
    "# m1 = RandomForestRegressor()\n",
    "# m1.fit(x_train,y_train)\n",
    "x_test=x_test.reshape(x_test.shape[0],x_test.shape[1],1)\n",
    "y_pred = model.predict(x_test)\n",
    "rms = mean_squared_error(y_test, y_pred, squared=False)\n",
    "rms"
   ]
  },
  {
   "cell_type": "code",
   "execution_count": 12,
   "metadata": {},
   "outputs": [],
   "source": [
    "from sklearn.ensemble import RandomForestRegressor\n",
    "from sklearn.metrics import mean_squared_error\n",
    "from xgboost import XGBRFRegressor\n",
    "from sklearn.model_selection import GridSearchCV\n",
    "\n",
    "from sklearn.metrics import mean_absolute_error\n",
    "from xgboost import XGBRFRegressor, XGBRegressor\n",
    "from sklearn.linear_model import LinearRegression\n",
    "from sklearn.svm import SVR\n",
    "from lightgbm import LGBMRegressor\n",
    "from pycaret.regression import *"
   ]
  },
  {
   "cell_type": "code",
   "execution_count": 17,
   "metadata": {
    "tags": [
     "outputPrepend"
    ]
   },
   "outputs": [
    {
     "output_type": "display_data",
     "data": {
      "text/plain": "<pandas.io.formats.style.Styler at 0x7fcee9821d90>",
      "text/html": "<style  type=\"text/css\" >\n#T_502a4_row10_col0,#T_502a4_row10_col1,#T_502a4_row10_col2,#T_502a4_row10_col3,#T_502a4_row10_col4,#T_502a4_row10_col5{\n            background:  yellow;\n        }</style><table id=\"T_502a4_\" ><thead>    <tr>        <th class=\"blank level0\" ></th>        <th class=\"col_heading level0 col0\" >MAE</th>        <th class=\"col_heading level0 col1\" >MSE</th>        <th class=\"col_heading level0 col2\" >RMSE</th>        <th class=\"col_heading level0 col3\" >R2</th>        <th class=\"col_heading level0 col4\" >RMSLE</th>        <th class=\"col_heading level0 col5\" >MAPE</th>    </tr></thead><tbody>\n                <tr>\n                        <th id=\"T_502a4_level0_row0\" class=\"row_heading level0 row0\" >0</th>\n                        <td id=\"T_502a4_row0_col0\" class=\"data row0 col0\" >140.7690</td>\n                        <td id=\"T_502a4_row0_col1\" class=\"data row0 col1\" >114070.7500</td>\n                        <td id=\"T_502a4_row0_col2\" class=\"data row0 col2\" >337.7436</td>\n                        <td id=\"T_502a4_row0_col3\" class=\"data row0 col3\" >0.8670</td>\n                        <td id=\"T_502a4_row0_col4\" class=\"data row0 col4\" >2.0352</td>\n                        <td id=\"T_502a4_row0_col5\" class=\"data row0 col5\" >1.3581</td>\n            </tr>\n            <tr>\n                        <th id=\"T_502a4_level0_row1\" class=\"row_heading level0 row1\" >1</th>\n                        <td id=\"T_502a4_row1_col0\" class=\"data row1 col0\" >78.2386</td>\n                        <td id=\"T_502a4_row1_col1\" class=\"data row1 col1\" >29910.6621</td>\n                        <td id=\"T_502a4_row1_col2\" class=\"data row1 col2\" >172.9470</td>\n                        <td id=\"T_502a4_row1_col3\" class=\"data row1 col3\" >0.9901</td>\n                        <td id=\"T_502a4_row1_col4\" class=\"data row1 col4\" >1.5867</td>\n                        <td id=\"T_502a4_row1_col5\" class=\"data row1 col5\" >0.7374</td>\n            </tr>\n            <tr>\n                        <th id=\"T_502a4_level0_row2\" class=\"row_heading level0 row2\" >2</th>\n                        <td id=\"T_502a4_row2_col0\" class=\"data row2 col0\" >129.3504</td>\n                        <td id=\"T_502a4_row2_col1\" class=\"data row2 col1\" >102231.2969</td>\n                        <td id=\"T_502a4_row2_col2\" class=\"data row2 col2\" >319.7363</td>\n                        <td id=\"T_502a4_row2_col3\" class=\"data row2 col3\" >0.9471</td>\n                        <td id=\"T_502a4_row2_col4\" class=\"data row2 col4\" >1.7748</td>\n                        <td id=\"T_502a4_row2_col5\" class=\"data row2 col5\" >1.9018</td>\n            </tr>\n            <tr>\n                        <th id=\"T_502a4_level0_row3\" class=\"row_heading level0 row3\" >3</th>\n                        <td id=\"T_502a4_row3_col0\" class=\"data row3 col0\" >148.7488</td>\n                        <td id=\"T_502a4_row3_col1\" class=\"data row3 col1\" >140984.2656</td>\n                        <td id=\"T_502a4_row3_col2\" class=\"data row3 col2\" >375.4787</td>\n                        <td id=\"T_502a4_row3_col3\" class=\"data row3 col3\" >0.9681</td>\n                        <td id=\"T_502a4_row3_col4\" class=\"data row3 col4\" >1.5753</td>\n                        <td id=\"T_502a4_row3_col5\" class=\"data row3 col5\" >0.7336</td>\n            </tr>\n            <tr>\n                        <th id=\"T_502a4_level0_row4\" class=\"row_heading level0 row4\" >4</th>\n                        <td id=\"T_502a4_row4_col0\" class=\"data row4 col0\" >196.2488</td>\n                        <td id=\"T_502a4_row4_col1\" class=\"data row4 col1\" >309964.2812</td>\n                        <td id=\"T_502a4_row4_col2\" class=\"data row4 col2\" >556.7444</td>\n                        <td id=\"T_502a4_row4_col3\" class=\"data row4 col3\" >0.9218</td>\n                        <td id=\"T_502a4_row4_col4\" class=\"data row4 col4\" >1.7056</td>\n                        <td id=\"T_502a4_row4_col5\" class=\"data row4 col5\" >0.6306</td>\n            </tr>\n            <tr>\n                        <th id=\"T_502a4_level0_row5\" class=\"row_heading level0 row5\" >5</th>\n                        <td id=\"T_502a4_row5_col0\" class=\"data row5 col0\" >195.4596</td>\n                        <td id=\"T_502a4_row5_col1\" class=\"data row5 col1\" >233639.1250</td>\n                        <td id=\"T_502a4_row5_col2\" class=\"data row5 col2\" >483.3623</td>\n                        <td id=\"T_502a4_row5_col3\" class=\"data row5 col3\" >0.8622</td>\n                        <td id=\"T_502a4_row5_col4\" class=\"data row5 col4\" >1.7756</td>\n                        <td id=\"T_502a4_row5_col5\" class=\"data row5 col5\" >0.7022</td>\n            </tr>\n            <tr>\n                        <th id=\"T_502a4_level0_row6\" class=\"row_heading level0 row6\" >6</th>\n                        <td id=\"T_502a4_row6_col0\" class=\"data row6 col0\" >128.7636</td>\n                        <td id=\"T_502a4_row6_col1\" class=\"data row6 col1\" >78142.4297</td>\n                        <td id=\"T_502a4_row6_col2\" class=\"data row6 col2\" >279.5397</td>\n                        <td id=\"T_502a4_row6_col3\" class=\"data row6 col3\" >0.8818</td>\n                        <td id=\"T_502a4_row6_col4\" class=\"data row6 col4\" >1.6547</td>\n                        <td id=\"T_502a4_row6_col5\" class=\"data row6 col5\" >0.7862</td>\n            </tr>\n            <tr>\n                        <th id=\"T_502a4_level0_row7\" class=\"row_heading level0 row7\" >7</th>\n                        <td id=\"T_502a4_row7_col0\" class=\"data row7 col0\" >158.9561</td>\n                        <td id=\"T_502a4_row7_col1\" class=\"data row7 col1\" >154639.8906</td>\n                        <td id=\"T_502a4_row7_col2\" class=\"data row7 col2\" >393.2428</td>\n                        <td id=\"T_502a4_row7_col3\" class=\"data row7 col3\" >0.9635</td>\n                        <td id=\"T_502a4_row7_col4\" class=\"data row7 col4\" >1.9204</td>\n                        <td id=\"T_502a4_row7_col5\" class=\"data row7 col5\" >0.6141</td>\n            </tr>\n            <tr>\n                        <th id=\"T_502a4_level0_row8\" class=\"row_heading level0 row8\" >8</th>\n                        <td id=\"T_502a4_row8_col0\" class=\"data row8 col0\" >111.3791</td>\n                        <td id=\"T_502a4_row8_col1\" class=\"data row8 col1\" >58916.4727</td>\n                        <td id=\"T_502a4_row8_col2\" class=\"data row8 col2\" >242.7272</td>\n                        <td id=\"T_502a4_row8_col3\" class=\"data row8 col3\" >0.8652</td>\n                        <td id=\"T_502a4_row8_col4\" class=\"data row8 col4\" >1.4471</td>\n                        <td id=\"T_502a4_row8_col5\" class=\"data row8 col5\" >0.9506</td>\n            </tr>\n            <tr>\n                        <th id=\"T_502a4_level0_row9\" class=\"row_heading level0 row9\" >9</th>\n                        <td id=\"T_502a4_row9_col0\" class=\"data row9 col0\" >189.5181</td>\n                        <td id=\"T_502a4_row9_col1\" class=\"data row9 col1\" >203519.7969</td>\n                        <td id=\"T_502a4_row9_col2\" class=\"data row9 col2\" >451.1317</td>\n                        <td id=\"T_502a4_row9_col3\" class=\"data row9 col3\" >0.8431</td>\n                        <td id=\"T_502a4_row9_col4\" class=\"data row9 col4\" >2.1195</td>\n                        <td id=\"T_502a4_row9_col5\" class=\"data row9 col5\" >0.4910</td>\n            </tr>\n            <tr>\n                        <th id=\"T_502a4_level0_row10\" class=\"row_heading level0 row10\" >Mean</th>\n                        <td id=\"T_502a4_row10_col0\" class=\"data row10 col0\" >147.7432</td>\n                        <td id=\"T_502a4_row10_col1\" class=\"data row10 col1\" >142601.8971</td>\n                        <td id=\"T_502a4_row10_col2\" class=\"data row10 col2\" >361.2654</td>\n                        <td id=\"T_502a4_row10_col3\" class=\"data row10 col3\" >0.9110</td>\n                        <td id=\"T_502a4_row10_col4\" class=\"data row10 col4\" >1.7595</td>\n                        <td id=\"T_502a4_row10_col5\" class=\"data row10 col5\" >0.8906</td>\n            </tr>\n            <tr>\n                        <th id=\"T_502a4_level0_row11\" class=\"row_heading level0 row11\" >SD</th>\n                        <td id=\"T_502a4_row11_col0\" class=\"data row11 col0\" >36.6086</td>\n                        <td id=\"T_502a4_row11_col1\" class=\"data row11 col1\" >81521.6931</td>\n                        <td id=\"T_502a4_row11_col2\" class=\"data row11 col2\" >109.9511</td>\n                        <td id=\"T_502a4_row11_col3\" class=\"data row11 col3\" >0.0506</td>\n                        <td id=\"T_502a4_row11_col4\" class=\"data row11 col4\" >0.2018</td>\n                        <td id=\"T_502a4_row11_col5\" class=\"data row11 col5\" >0.4053</td>\n            </tr>\n    </tbody></table>"
     },
     "metadata": {}
    },
    {
     "output_type": "display_data",
     "data": {
      "text/plain": "interactive(children=(ToggleButtons(description='Plot Type:', icons=('',), options=(('Hyperparameters', 'param…",
      "application/vnd.jupyter.widget-view+json": {
       "version_major": 2,
       "version_minor": 0,
       "model_id": "706654e888d8488d8c17e396f35ce5ea"
      }
     },
     "metadata": {}
    },
    {
     "output_type": "stream",
     "name": "stdout",
     "text": [
      "None\n"
     ]
    },
    {
     "output_type": "display_data",
     "data": {
      "text/plain": "IntProgress(value=0, description='Processing: ', max=3)",
      "application/vnd.jupyter.widget-view+json": {
       "version_major": 2,
       "version_minor": 0,
       "model_id": "1108d7f61f9647319c36320b34771b9e"
      }
     },
     "metadata": {}
    },
    {
     "output_type": "display_data",
     "data": {
      "text/plain": "                                                                  \n                                                                  \nInitiated  . . . . . . . . . . . . . . . . . .            08:17:22\nStatus     . . . . . . . . . . . . . . . . . .  Preprocessing Data",
      "text/html": "<div>\n<style scoped>\n    .dataframe tbody tr th:only-of-type {\n        vertical-align: middle;\n    }\n\n    .dataframe tbody tr th {\n        vertical-align: top;\n    }\n\n    .dataframe thead th {\n        text-align: right;\n    }\n</style>\n<table border=\"1\" class=\"dataframe\">\n  <thead>\n    <tr style=\"text-align: right;\">\n      <th></th>\n      <th></th>\n      <th></th>\n    </tr>\n    <tr>\n      <th></th>\n      <th></th>\n      <th></th>\n    </tr>\n  </thead>\n  <tbody>\n    <tr>\n      <th>Initiated</th>\n      <td>. . . . . . . . . . . . . . . . . .</td>\n      <td>08:17:22</td>\n    </tr>\n    <tr>\n      <th>Status</th>\n      <td>. . . . . . . . . . . . . . . . . .</td>\n      <td>Preprocessing Data</td>\n    </tr>\n  </tbody>\n</table>\n</div>"
     },
     "metadata": {}
    }
   ],
   "source": [
    "g = df.groupby('adgroup')\n",
    "\n",
    "# model0 = XGBRFRegressor(n_estimators=10,max_depth=6, min_child_weight=2,subsample=0,learning_rate = 0.3)\n",
    "# model0 = lg(kernel='rbf', degree=2, gamma='auto', C = 0.1)\n",
    "j=6\n",
    "model0 = LGBMRegressor(n_estimators=10000,max_depth=4, num_leaves=2**j,boosting_type='dart',learning_rate=0.09,random_state=0)\n",
    "model1 = LGBMRegressor(random_state=0)\n",
    "model2 = LGBMRegressor(n_estimators=1000,max_depth=4, num_leaves=2**5,boosting_type='dart',learning_rate=0.8,random_state=0)\n",
    "model3 = LGBMRegressor(random_state=0)\n",
    "for i in range(4):\n",
    "    d=pd.DataFrame(g.get_group(i))\n",
    "    # y=d['revenue']\n",
    "    # print(d.head(5))\n",
    "    # d.drop(['revenue'],axis=1,inplace=True)\n",
    "    data = setup(d,target = 'revenue', use_gpu=True)\n",
    "    xgb = create_model('xgboost',verbose=False)\n",
    "    tuned_xgb = tune_model(xgb, n_iter = 50,optimize='rmse')\n",
    "    print(evaluate_model(xgb))\n",
    "    # d_train,d_test,y1_train,y1_test = train_test_split(d,y,random_state=0)\n",
    "    # if(i==0):\n",
    "    #     model0.fit(d_train,y1_train)\n",
    "    #     y_pred=model0.predict(d_test)\n",
    "        \n",
    "    # elif (i==1):\n",
    "    #     model1.fit(d_train,y1_train)\n",
    "    #     y_pred=model1.predict(d_test)\n",
    "    # elif (i==2):\n",
    "    #     model2.fit(d_train,y1_train)\n",
    "    #     y_pred=model2.predict(d_test)\n",
    "    # elif (i==3):\n",
    "    #     model3.fit(d_train,y1_train) \n",
    "    #     y_pred=model3.predict(d_test)\n",
    "    \n",
    "    # for i in range(len(d_test)):\n",
    "    #     if(y_pred[i]<0):\n",
    "    #         y_pred[i] = 0\n",
    "    # rms = mean_squared_error(y1_test, y_pred, squared=False)\n",
    "    # print(rms)\n"
   ]
  },
  {
   "cell_type": "code",
   "execution_count": null,
   "metadata": {},
   "outputs": [],
   "source": [
    "y_pred=[]\n",
    "# x_test.drop('revenue',axis=1,inplace=True)\n",
    "for i in range(len(x_test)):\n",
    "    if(x_test['adgroup'][i]==0):\n",
    "        y_pred.append(model0.predict(pd.DataFrame(x_test.iloc[i]).transpose()))\n",
    "    # elif (x_test['adgroup'][i]==1):\n",
    "    #     y_pred.append(model1.predict(pd.DataFrame(x_test.iloc[i]).transpose()))\n",
    "    # elif (x_test['adgroup'][i]==2):\n",
    "    #     y_pred.append(model2.predict(pd.DataFrame(x_test.iloc[i]).transpose()))\n",
    "    # elif (x_test['adgroup'][i]==3):\n",
    "    #     y_pred.append(model3.predict(pd.DataFrame(x_test.iloc[i]).transpose()))\n",
    "\n",
    "y1=[]\n",
    "\n",
    "\n",
    "rms = mean_squared_error(y1, y_pred, squared=False)\n",
    "rms"
   ]
  },
  {
   "cell_type": "code",
   "execution_count": null,
   "metadata": {},
   "outputs": [],
   "source": [
    "np.array(x_test.iloc[i,:]).reshape(1,-1)"
   ]
  },
  {
   "cell_type": "code",
   "execution_count": null,
   "metadata": {},
   "outputs": [],
   "source": [
    "def hyperParameterTuning(X_train, y_train):\n",
    "    param_tuning = {\n",
    "        'learning_rate': [0.01, 0.1],\n",
    "        'max_depth': [10],\n",
    "        'min_child_weight': [ 5],\n",
    "        # 'subsample': [0.5, 0.7],\n",
    "        # 'colsample_bytree': [0.5, 0.7],\n",
    "        'n_estimators' : [200],\n",
    "        'objective': ['reg:squarederror']\n",
    "    }\n",
    "\n",
    "    xgb_model = XGBRegressor()\n",
    "\n",
    "    gsearch = GridSearchCV(estimator = xgb_model,\n",
    "                           param_grid = param_tuning,                        \n",
    "                           #scoring = 'neg_mean_absolute_error', #MAE\n",
    "                           #scoring = 'neg_mean_squared_error',  #MSE\n",
    "                           cv = 5,\n",
    "                           n_jobs = -1,\n",
    "                           verbose = 1)\n",
    "\n",
    "    gsearch.fit(X_train,y_train)\n",
    "\n",
    "    return gsearch.best_params_"
   ]
  },
  {
   "cell_type": "code",
   "execution_count": 11,
   "metadata": {},
   "outputs": [
    {
     "ename": "NameError",
     "evalue": "name 'y_pred' is not defined",
     "output_type": "error",
     "traceback": [
      "\u001b[0;31m---------------------------------------------------------------------------\u001b[0m",
      "\u001b[0;31mNameError\u001b[0m                                 Traceback (most recent call last)",
      "\u001b[0;32m<ipython-input-11-52be66c5f6f7>\u001b[0m in \u001b[0;36m<module>\u001b[0;34m\u001b[0m\n\u001b[0;32m----> 1\u001b[0;31m \u001b[0my_pred\u001b[0m\u001b[0;34m[\u001b[0m\u001b[0;36m0\u001b[0m\u001b[0;34m]\u001b[0m\u001b[0;34m\u001b[0m\u001b[0;34m\u001b[0m\u001b[0m\n\u001b[0m",
      "\u001b[0;31mNameError\u001b[0m: name 'y_pred' is not defined"
     ]
    }
   ],
   "source": [
    "y_pred[0]"
   ]
  },
  {
   "cell_type": "code",
   "execution_count": null,
   "metadata": {},
   "outputs": [],
   "source": [
    "## Final\n",
    "model2.fit(df,y)\n",
    "y_final = model2.predict(test)\n",
    "for i in range(len(y_final)):\n",
    "    if y_final[i] < 0:\n",
    "        y_final[i]=0"
   ]
  },
  {
   "cell_type": "code",
   "execution_count": null,
   "metadata": {},
   "outputs": [],
   "source": [
    "pd.DataFrame({'revenue':y_final}).to_csv(\"submission.csv\")"
   ]
  },
  {
   "cell_type": "code",
   "execution_count": null,
   "metadata": {},
   "outputs": [],
   "source": [
    "sns.scatterplot(df['adgroup'],df['revenue'])"
   ]
  },
  {
   "cell_type": "code",
   "execution_count": 9,
   "metadata": {},
   "outputs": [],
   "source": [
    "from pycaret.regression import *    "
   ]
  },
  {
   "cell_type": "code",
   "execution_count": 14,
   "metadata": {},
   "outputs": [
    {
     "output_type": "display_data",
     "data": {
      "text/plain": "<pandas.io.formats.style.Styler at 0x7fe81051beb0>",
      "text/html": "<style  type=\"text/css\" >\n#T_7a556_row16_col1,#T_7a556_row42_col1{\n            background-color:  lightgreen;\n        }</style><table id=\"T_7a556_\" ><thead>    <tr>        <th class=\"blank level0\" ></th>        <th class=\"col_heading level0 col0\" >Description</th>        <th class=\"col_heading level0 col1\" >Value</th>    </tr></thead><tbody>\n                <tr>\n                        <th id=\"T_7a556_level0_row0\" class=\"row_heading level0 row0\" >0</th>\n                        <td id=\"T_7a556_row0_col0\" class=\"data row0 col0\" >session_id</td>\n                        <td id=\"T_7a556_row0_col1\" class=\"data row0 col1\" >1142</td>\n            </tr>\n            <tr>\n                        <th id=\"T_7a556_level0_row1\" class=\"row_heading level0 row1\" >1</th>\n                        <td id=\"T_7a556_row1_col0\" class=\"data row1 col0\" >Target</td>\n                        <td id=\"T_7a556_row1_col1\" class=\"data row1 col1\" >revenue</td>\n            </tr>\n            <tr>\n                        <th id=\"T_7a556_level0_row2\" class=\"row_heading level0 row2\" >2</th>\n                        <td id=\"T_7a556_row2_col0\" class=\"data row2 col0\" >Original Data</td>\n                        <td id=\"T_7a556_row2_col1\" class=\"data row2 col1\" >(4571, 9)</td>\n            </tr>\n            <tr>\n                        <th id=\"T_7a556_level0_row3\" class=\"row_heading level0 row3\" >3</th>\n                        <td id=\"T_7a556_row3_col0\" class=\"data row3 col0\" >Missing Values</td>\n                        <td id=\"T_7a556_row3_col1\" class=\"data row3 col1\" >False</td>\n            </tr>\n            <tr>\n                        <th id=\"T_7a556_level0_row4\" class=\"row_heading level0 row4\" >4</th>\n                        <td id=\"T_7a556_row4_col0\" class=\"data row4 col0\" >Numeric Features</td>\n                        <td id=\"T_7a556_row4_col1\" class=\"data row4 col1\" >7</td>\n            </tr>\n            <tr>\n                        <th id=\"T_7a556_level0_row5\" class=\"row_heading level0 row5\" >5</th>\n                        <td id=\"T_7a556_row5_col0\" class=\"data row5 col0\" >Categorical Features</td>\n                        <td id=\"T_7a556_row5_col1\" class=\"data row5 col1\" >1</td>\n            </tr>\n            <tr>\n                        <th id=\"T_7a556_level0_row6\" class=\"row_heading level0 row6\" >6</th>\n                        <td id=\"T_7a556_row6_col0\" class=\"data row6 col0\" >Ordinal Features</td>\n                        <td id=\"T_7a556_row6_col1\" class=\"data row6 col1\" >False</td>\n            </tr>\n            <tr>\n                        <th id=\"T_7a556_level0_row7\" class=\"row_heading level0 row7\" >7</th>\n                        <td id=\"T_7a556_row7_col0\" class=\"data row7 col0\" >High Cardinality Features</td>\n                        <td id=\"T_7a556_row7_col1\" class=\"data row7 col1\" >False</td>\n            </tr>\n            <tr>\n                        <th id=\"T_7a556_level0_row8\" class=\"row_heading level0 row8\" >8</th>\n                        <td id=\"T_7a556_row8_col0\" class=\"data row8 col0\" >High Cardinality Method</td>\n                        <td id=\"T_7a556_row8_col1\" class=\"data row8 col1\" >None</td>\n            </tr>\n            <tr>\n                        <th id=\"T_7a556_level0_row9\" class=\"row_heading level0 row9\" >9</th>\n                        <td id=\"T_7a556_row9_col0\" class=\"data row9 col0\" >Transformed Train Set</td>\n                        <td id=\"T_7a556_row9_col1\" class=\"data row9 col1\" >(3199, 11)</td>\n            </tr>\n            <tr>\n                        <th id=\"T_7a556_level0_row10\" class=\"row_heading level0 row10\" >10</th>\n                        <td id=\"T_7a556_row10_col0\" class=\"data row10 col0\" >Transformed Test Set</td>\n                        <td id=\"T_7a556_row10_col1\" class=\"data row10 col1\" >(1372, 11)</td>\n            </tr>\n            <tr>\n                        <th id=\"T_7a556_level0_row11\" class=\"row_heading level0 row11\" >11</th>\n                        <td id=\"T_7a556_row11_col0\" class=\"data row11 col0\" >Shuffle Train-Test</td>\n                        <td id=\"T_7a556_row11_col1\" class=\"data row11 col1\" >True</td>\n            </tr>\n            <tr>\n                        <th id=\"T_7a556_level0_row12\" class=\"row_heading level0 row12\" >12</th>\n                        <td id=\"T_7a556_row12_col0\" class=\"data row12 col0\" >Stratify Train-Test</td>\n                        <td id=\"T_7a556_row12_col1\" class=\"data row12 col1\" >False</td>\n            </tr>\n            <tr>\n                        <th id=\"T_7a556_level0_row13\" class=\"row_heading level0 row13\" >13</th>\n                        <td id=\"T_7a556_row13_col0\" class=\"data row13 col0\" >Fold Generator</td>\n                        <td id=\"T_7a556_row13_col1\" class=\"data row13 col1\" >KFold</td>\n            </tr>\n            <tr>\n                        <th id=\"T_7a556_level0_row14\" class=\"row_heading level0 row14\" >14</th>\n                        <td id=\"T_7a556_row14_col0\" class=\"data row14 col0\" >Fold Number</td>\n                        <td id=\"T_7a556_row14_col1\" class=\"data row14 col1\" >10</td>\n            </tr>\n            <tr>\n                        <th id=\"T_7a556_level0_row15\" class=\"row_heading level0 row15\" >15</th>\n                        <td id=\"T_7a556_row15_col0\" class=\"data row15 col0\" >CPU Jobs</td>\n                        <td id=\"T_7a556_row15_col1\" class=\"data row15 col1\" >-1</td>\n            </tr>\n            <tr>\n                        <th id=\"T_7a556_level0_row16\" class=\"row_heading level0 row16\" >16</th>\n                        <td id=\"T_7a556_row16_col0\" class=\"data row16 col0\" >Use GPU</td>\n                        <td id=\"T_7a556_row16_col1\" class=\"data row16 col1\" >True</td>\n            </tr>\n            <tr>\n                        <th id=\"T_7a556_level0_row17\" class=\"row_heading level0 row17\" >17</th>\n                        <td id=\"T_7a556_row17_col0\" class=\"data row17 col0\" >Log Experiment</td>\n                        <td id=\"T_7a556_row17_col1\" class=\"data row17 col1\" >False</td>\n            </tr>\n            <tr>\n                        <th id=\"T_7a556_level0_row18\" class=\"row_heading level0 row18\" >18</th>\n                        <td id=\"T_7a556_row18_col0\" class=\"data row18 col0\" >Experiment Name</td>\n                        <td id=\"T_7a556_row18_col1\" class=\"data row18 col1\" >reg-default-name</td>\n            </tr>\n            <tr>\n                        <th id=\"T_7a556_level0_row19\" class=\"row_heading level0 row19\" >19</th>\n                        <td id=\"T_7a556_row19_col0\" class=\"data row19 col0\" >USI</td>\n                        <td id=\"T_7a556_row19_col1\" class=\"data row19 col1\" >1a51</td>\n            </tr>\n            <tr>\n                        <th id=\"T_7a556_level0_row20\" class=\"row_heading level0 row20\" >20</th>\n                        <td id=\"T_7a556_row20_col0\" class=\"data row20 col0\" >Imputation Type</td>\n                        <td id=\"T_7a556_row20_col1\" class=\"data row20 col1\" >simple</td>\n            </tr>\n            <tr>\n                        <th id=\"T_7a556_level0_row21\" class=\"row_heading level0 row21\" >21</th>\n                        <td id=\"T_7a556_row21_col0\" class=\"data row21 col0\" >Iterative Imputation Iteration</td>\n                        <td id=\"T_7a556_row21_col1\" class=\"data row21 col1\" >None</td>\n            </tr>\n            <tr>\n                        <th id=\"T_7a556_level0_row22\" class=\"row_heading level0 row22\" >22</th>\n                        <td id=\"T_7a556_row22_col0\" class=\"data row22 col0\" >Numeric Imputer</td>\n                        <td id=\"T_7a556_row22_col1\" class=\"data row22 col1\" >mean</td>\n            </tr>\n            <tr>\n                        <th id=\"T_7a556_level0_row23\" class=\"row_heading level0 row23\" >23</th>\n                        <td id=\"T_7a556_row23_col0\" class=\"data row23 col0\" >Iterative Imputation Numeric Model</td>\n                        <td id=\"T_7a556_row23_col1\" class=\"data row23 col1\" >None</td>\n            </tr>\n            <tr>\n                        <th id=\"T_7a556_level0_row24\" class=\"row_heading level0 row24\" >24</th>\n                        <td id=\"T_7a556_row24_col0\" class=\"data row24 col0\" >Categorical Imputer</td>\n                        <td id=\"T_7a556_row24_col1\" class=\"data row24 col1\" >constant</td>\n            </tr>\n            <tr>\n                        <th id=\"T_7a556_level0_row25\" class=\"row_heading level0 row25\" >25</th>\n                        <td id=\"T_7a556_row25_col0\" class=\"data row25 col0\" >Iterative Imputation Categorical Model</td>\n                        <td id=\"T_7a556_row25_col1\" class=\"data row25 col1\" >None</td>\n            </tr>\n            <tr>\n                        <th id=\"T_7a556_level0_row26\" class=\"row_heading level0 row26\" >26</th>\n                        <td id=\"T_7a556_row26_col0\" class=\"data row26 col0\" >Unknown Categoricals Handling</td>\n                        <td id=\"T_7a556_row26_col1\" class=\"data row26 col1\" >least_frequent</td>\n            </tr>\n            <tr>\n                        <th id=\"T_7a556_level0_row27\" class=\"row_heading level0 row27\" >27</th>\n                        <td id=\"T_7a556_row27_col0\" class=\"data row27 col0\" >Normalize</td>\n                        <td id=\"T_7a556_row27_col1\" class=\"data row27 col1\" >False</td>\n            </tr>\n            <tr>\n                        <th id=\"T_7a556_level0_row28\" class=\"row_heading level0 row28\" >28</th>\n                        <td id=\"T_7a556_row28_col0\" class=\"data row28 col0\" >Normalize Method</td>\n                        <td id=\"T_7a556_row28_col1\" class=\"data row28 col1\" >None</td>\n            </tr>\n            <tr>\n                        <th id=\"T_7a556_level0_row29\" class=\"row_heading level0 row29\" >29</th>\n                        <td id=\"T_7a556_row29_col0\" class=\"data row29 col0\" >Transformation</td>\n                        <td id=\"T_7a556_row29_col1\" class=\"data row29 col1\" >False</td>\n            </tr>\n            <tr>\n                        <th id=\"T_7a556_level0_row30\" class=\"row_heading level0 row30\" >30</th>\n                        <td id=\"T_7a556_row30_col0\" class=\"data row30 col0\" >Transformation Method</td>\n                        <td id=\"T_7a556_row30_col1\" class=\"data row30 col1\" >None</td>\n            </tr>\n            <tr>\n                        <th id=\"T_7a556_level0_row31\" class=\"row_heading level0 row31\" >31</th>\n                        <td id=\"T_7a556_row31_col0\" class=\"data row31 col0\" >PCA</td>\n                        <td id=\"T_7a556_row31_col1\" class=\"data row31 col1\" >False</td>\n            </tr>\n            <tr>\n                        <th id=\"T_7a556_level0_row32\" class=\"row_heading level0 row32\" >32</th>\n                        <td id=\"T_7a556_row32_col0\" class=\"data row32 col0\" >PCA Method</td>\n                        <td id=\"T_7a556_row32_col1\" class=\"data row32 col1\" >None</td>\n            </tr>\n            <tr>\n                        <th id=\"T_7a556_level0_row33\" class=\"row_heading level0 row33\" >33</th>\n                        <td id=\"T_7a556_row33_col0\" class=\"data row33 col0\" >PCA Components</td>\n                        <td id=\"T_7a556_row33_col1\" class=\"data row33 col1\" >None</td>\n            </tr>\n            <tr>\n                        <th id=\"T_7a556_level0_row34\" class=\"row_heading level0 row34\" >34</th>\n                        <td id=\"T_7a556_row34_col0\" class=\"data row34 col0\" >Ignore Low Variance</td>\n                        <td id=\"T_7a556_row34_col1\" class=\"data row34 col1\" >False</td>\n            </tr>\n            <tr>\n                        <th id=\"T_7a556_level0_row35\" class=\"row_heading level0 row35\" >35</th>\n                        <td id=\"T_7a556_row35_col0\" class=\"data row35 col0\" >Combine Rare Levels</td>\n                        <td id=\"T_7a556_row35_col1\" class=\"data row35 col1\" >False</td>\n            </tr>\n            <tr>\n                        <th id=\"T_7a556_level0_row36\" class=\"row_heading level0 row36\" >36</th>\n                        <td id=\"T_7a556_row36_col0\" class=\"data row36 col0\" >Rare Level Threshold</td>\n                        <td id=\"T_7a556_row36_col1\" class=\"data row36 col1\" >None</td>\n            </tr>\n            <tr>\n                        <th id=\"T_7a556_level0_row37\" class=\"row_heading level0 row37\" >37</th>\n                        <td id=\"T_7a556_row37_col0\" class=\"data row37 col0\" >Numeric Binning</td>\n                        <td id=\"T_7a556_row37_col1\" class=\"data row37 col1\" >False</td>\n            </tr>\n            <tr>\n                        <th id=\"T_7a556_level0_row38\" class=\"row_heading level0 row38\" >38</th>\n                        <td id=\"T_7a556_row38_col0\" class=\"data row38 col0\" >Remove Outliers</td>\n                        <td id=\"T_7a556_row38_col1\" class=\"data row38 col1\" >False</td>\n            </tr>\n            <tr>\n                        <th id=\"T_7a556_level0_row39\" class=\"row_heading level0 row39\" >39</th>\n                        <td id=\"T_7a556_row39_col0\" class=\"data row39 col0\" >Outliers Threshold</td>\n                        <td id=\"T_7a556_row39_col1\" class=\"data row39 col1\" >None</td>\n            </tr>\n            <tr>\n                        <th id=\"T_7a556_level0_row40\" class=\"row_heading level0 row40\" >40</th>\n                        <td id=\"T_7a556_row40_col0\" class=\"data row40 col0\" >Remove Multicollinearity</td>\n                        <td id=\"T_7a556_row40_col1\" class=\"data row40 col1\" >False</td>\n            </tr>\n            <tr>\n                        <th id=\"T_7a556_level0_row41\" class=\"row_heading level0 row41\" >41</th>\n                        <td id=\"T_7a556_row41_col0\" class=\"data row41 col0\" >Multicollinearity Threshold</td>\n                        <td id=\"T_7a556_row41_col1\" class=\"data row41 col1\" >None</td>\n            </tr>\n            <tr>\n                        <th id=\"T_7a556_level0_row42\" class=\"row_heading level0 row42\" >42</th>\n                        <td id=\"T_7a556_row42_col0\" class=\"data row42 col0\" >Remove Perfect Collinearity</td>\n                        <td id=\"T_7a556_row42_col1\" class=\"data row42 col1\" >True</td>\n            </tr>\n            <tr>\n                        <th id=\"T_7a556_level0_row43\" class=\"row_heading level0 row43\" >43</th>\n                        <td id=\"T_7a556_row43_col0\" class=\"data row43 col0\" >Clustering</td>\n                        <td id=\"T_7a556_row43_col1\" class=\"data row43 col1\" >False</td>\n            </tr>\n            <tr>\n                        <th id=\"T_7a556_level0_row44\" class=\"row_heading level0 row44\" >44</th>\n                        <td id=\"T_7a556_row44_col0\" class=\"data row44 col0\" >Clustering Iteration</td>\n                        <td id=\"T_7a556_row44_col1\" class=\"data row44 col1\" >None</td>\n            </tr>\n            <tr>\n                        <th id=\"T_7a556_level0_row45\" class=\"row_heading level0 row45\" >45</th>\n                        <td id=\"T_7a556_row45_col0\" class=\"data row45 col0\" >Polynomial Features</td>\n                        <td id=\"T_7a556_row45_col1\" class=\"data row45 col1\" >False</td>\n            </tr>\n            <tr>\n                        <th id=\"T_7a556_level0_row46\" class=\"row_heading level0 row46\" >46</th>\n                        <td id=\"T_7a556_row46_col0\" class=\"data row46 col0\" >Polynomial Degree</td>\n                        <td id=\"T_7a556_row46_col1\" class=\"data row46 col1\" >None</td>\n            </tr>\n            <tr>\n                        <th id=\"T_7a556_level0_row47\" class=\"row_heading level0 row47\" >47</th>\n                        <td id=\"T_7a556_row47_col0\" class=\"data row47 col0\" >Trignometry Features</td>\n                        <td id=\"T_7a556_row47_col1\" class=\"data row47 col1\" >False</td>\n            </tr>\n            <tr>\n                        <th id=\"T_7a556_level0_row48\" class=\"row_heading level0 row48\" >48</th>\n                        <td id=\"T_7a556_row48_col0\" class=\"data row48 col0\" >Polynomial Threshold</td>\n                        <td id=\"T_7a556_row48_col1\" class=\"data row48 col1\" >None</td>\n            </tr>\n            <tr>\n                        <th id=\"T_7a556_level0_row49\" class=\"row_heading level0 row49\" >49</th>\n                        <td id=\"T_7a556_row49_col0\" class=\"data row49 col0\" >Group Features</td>\n                        <td id=\"T_7a556_row49_col1\" class=\"data row49 col1\" >False</td>\n            </tr>\n            <tr>\n                        <th id=\"T_7a556_level0_row50\" class=\"row_heading level0 row50\" >50</th>\n                        <td id=\"T_7a556_row50_col0\" class=\"data row50 col0\" >Feature Selection</td>\n                        <td id=\"T_7a556_row50_col1\" class=\"data row50 col1\" >False</td>\n            </tr>\n            <tr>\n                        <th id=\"T_7a556_level0_row51\" class=\"row_heading level0 row51\" >51</th>\n                        <td id=\"T_7a556_row51_col0\" class=\"data row51 col0\" >Feature Selection Method</td>\n                        <td id=\"T_7a556_row51_col1\" class=\"data row51 col1\" >classic</td>\n            </tr>\n            <tr>\n                        <th id=\"T_7a556_level0_row52\" class=\"row_heading level0 row52\" >52</th>\n                        <td id=\"T_7a556_row52_col0\" class=\"data row52 col0\" >Features Selection Threshold</td>\n                        <td id=\"T_7a556_row52_col1\" class=\"data row52 col1\" >None</td>\n            </tr>\n            <tr>\n                        <th id=\"T_7a556_level0_row53\" class=\"row_heading level0 row53\" >53</th>\n                        <td id=\"T_7a556_row53_col0\" class=\"data row53 col0\" >Feature Interaction</td>\n                        <td id=\"T_7a556_row53_col1\" class=\"data row53 col1\" >False</td>\n            </tr>\n            <tr>\n                        <th id=\"T_7a556_level0_row54\" class=\"row_heading level0 row54\" >54</th>\n                        <td id=\"T_7a556_row54_col0\" class=\"data row54 col0\" >Feature Ratio</td>\n                        <td id=\"T_7a556_row54_col1\" class=\"data row54 col1\" >False</td>\n            </tr>\n            <tr>\n                        <th id=\"T_7a556_level0_row55\" class=\"row_heading level0 row55\" >55</th>\n                        <td id=\"T_7a556_row55_col0\" class=\"data row55 col0\" >Interaction Threshold</td>\n                        <td id=\"T_7a556_row55_col1\" class=\"data row55 col1\" >None</td>\n            </tr>\n            <tr>\n                        <th id=\"T_7a556_level0_row56\" class=\"row_heading level0 row56\" >56</th>\n                        <td id=\"T_7a556_row56_col0\" class=\"data row56 col0\" >Transform Target</td>\n                        <td id=\"T_7a556_row56_col1\" class=\"data row56 col1\" >False</td>\n            </tr>\n            <tr>\n                        <th id=\"T_7a556_level0_row57\" class=\"row_heading level0 row57\" >57</th>\n                        <td id=\"T_7a556_row57_col0\" class=\"data row57 col0\" >Transform Target Method</td>\n                        <td id=\"T_7a556_row57_col1\" class=\"data row57 col1\" >box-cox</td>\n            </tr>\n    </tbody></table>"
     },
     "metadata": {}
    }
   ],
   "source": [
    "data = setup(df,target = 'revenue', use_gpu=True)"
   ]
  },
  {
   "cell_type": "code",
   "execution_count": 24,
   "metadata": {},
   "outputs": [
    {
     "output_type": "execute_result",
     "data": {
      "text/plain": [
       "                                       Name GPU Enabled\n",
       "ID                                                     \n",
       "lr                        Linear Regression       False\n",
       "lasso                      Lasso Regression       False\n",
       "ridge                      Ridge Regression       False\n",
       "en                              Elastic Net       False\n",
       "lar                  Least Angle Regression       False\n",
       "llar           Lasso Least Angle Regression       False\n",
       "omp             Orthogonal Matching Pursuit       False\n",
       "br                           Bayesian Ridge       False\n",
       "ard       Automatic Relevance Determination       False\n",
       "par            Passive Aggressive Regressor       False\n",
       "ransac              Random Sample Consensus       False\n",
       "tr                       TheilSen Regressor       False\n",
       "huber                       Huber Regressor       False\n",
       "kr                             Kernel Ridge       False\n",
       "svm               Support Vector Regression       False\n",
       "knn                   K Neighbors Regressor       False\n",
       "dt                  Decision Tree Regressor       False\n",
       "rf                  Random Forest Regressor       False\n",
       "et                    Extra Trees Regressor       False\n",
       "ada                      AdaBoost Regressor       False\n",
       "gbr             Gradient Boosting Regressor       False\n",
       "mlp                           MLP Regressor       False\n",
       "xgboost           Extreme Gradient Boosting        True\n",
       "lightgbm    Light Gradient Boosting Machine         gpu\n",
       "catboost                 CatBoost Regressor       False\n",
       "Bagging                   Bagging Regressor       False\n",
       "Stacking                 Stacking Regressor       False\n",
       "Voting                     Voting Regressor       False"
      ],
      "text/html": "<div>\n<style scoped>\n    .dataframe tbody tr th:only-of-type {\n        vertical-align: middle;\n    }\n\n    .dataframe tbody tr th {\n        vertical-align: top;\n    }\n\n    .dataframe thead th {\n        text-align: right;\n    }\n</style>\n<table border=\"1\" class=\"dataframe\">\n  <thead>\n    <tr style=\"text-align: right;\">\n      <th></th>\n      <th>Name</th>\n      <th>GPU Enabled</th>\n    </tr>\n    <tr>\n      <th>ID</th>\n      <th></th>\n      <th></th>\n    </tr>\n  </thead>\n  <tbody>\n    <tr>\n      <th>lr</th>\n      <td>Linear Regression</td>\n      <td>False</td>\n    </tr>\n    <tr>\n      <th>lasso</th>\n      <td>Lasso Regression</td>\n      <td>False</td>\n    </tr>\n    <tr>\n      <th>ridge</th>\n      <td>Ridge Regression</td>\n      <td>False</td>\n    </tr>\n    <tr>\n      <th>en</th>\n      <td>Elastic Net</td>\n      <td>False</td>\n    </tr>\n    <tr>\n      <th>lar</th>\n      <td>Least Angle Regression</td>\n      <td>False</td>\n    </tr>\n    <tr>\n      <th>llar</th>\n      <td>Lasso Least Angle Regression</td>\n      <td>False</td>\n    </tr>\n    <tr>\n      <th>omp</th>\n      <td>Orthogonal Matching Pursuit</td>\n      <td>False</td>\n    </tr>\n    <tr>\n      <th>br</th>\n      <td>Bayesian Ridge</td>\n      <td>False</td>\n    </tr>\n    <tr>\n      <th>ard</th>\n      <td>Automatic Relevance Determination</td>\n      <td>False</td>\n    </tr>\n    <tr>\n      <th>par</th>\n      <td>Passive Aggressive Regressor</td>\n      <td>False</td>\n    </tr>\n    <tr>\n      <th>ransac</th>\n      <td>Random Sample Consensus</td>\n      <td>False</td>\n    </tr>\n    <tr>\n      <th>tr</th>\n      <td>TheilSen Regressor</td>\n      <td>False</td>\n    </tr>\n    <tr>\n      <th>huber</th>\n      <td>Huber Regressor</td>\n      <td>False</td>\n    </tr>\n    <tr>\n      <th>kr</th>\n      <td>Kernel Ridge</td>\n      <td>False</td>\n    </tr>\n    <tr>\n      <th>svm</th>\n      <td>Support Vector Regression</td>\n      <td>False</td>\n    </tr>\n    <tr>\n      <th>knn</th>\n      <td>K Neighbors Regressor</td>\n      <td>False</td>\n    </tr>\n    <tr>\n      <th>dt</th>\n      <td>Decision Tree Regressor</td>\n      <td>False</td>\n    </tr>\n    <tr>\n      <th>rf</th>\n      <td>Random Forest Regressor</td>\n      <td>False</td>\n    </tr>\n    <tr>\n      <th>et</th>\n      <td>Extra Trees Regressor</td>\n      <td>False</td>\n    </tr>\n    <tr>\n      <th>ada</th>\n      <td>AdaBoost Regressor</td>\n      <td>False</td>\n    </tr>\n    <tr>\n      <th>gbr</th>\n      <td>Gradient Boosting Regressor</td>\n      <td>False</td>\n    </tr>\n    <tr>\n      <th>mlp</th>\n      <td>MLP Regressor</td>\n      <td>False</td>\n    </tr>\n    <tr>\n      <th>xgboost</th>\n      <td>Extreme Gradient Boosting</td>\n      <td>True</td>\n    </tr>\n    <tr>\n      <th>lightgbm</th>\n      <td>Light Gradient Boosting Machine</td>\n      <td>gpu</td>\n    </tr>\n    <tr>\n      <th>catboost</th>\n      <td>CatBoost Regressor</td>\n      <td>False</td>\n    </tr>\n    <tr>\n      <th>Bagging</th>\n      <td>Bagging Regressor</td>\n      <td>False</td>\n    </tr>\n    <tr>\n      <th>Stacking</th>\n      <td>Stacking Regressor</td>\n      <td>False</td>\n    </tr>\n    <tr>\n      <th>Voting</th>\n      <td>Voting Regressor</td>\n      <td>False</td>\n    </tr>\n  </tbody>\n</table>\n</div>"
     },
     "metadata": {},
     "execution_count": 24
    }
   ],
   "source": [
    "models(internal=True)[['Name', 'GPU Enabled']]"
   ]
  },
  {
   "cell_type": "code",
   "execution_count": 32,
   "metadata": {},
   "outputs": [
    {
     "output_type": "display_data",
     "data": {
      "text/plain": "<pandas.io.formats.style.Styler at 0x7fe82f1e69a0>",
      "text/html": "<style  type=\"text/css\" >\n#T_48d9c_row10_col0,#T_48d9c_row10_col1,#T_48d9c_row10_col2,#T_48d9c_row10_col3,#T_48d9c_row10_col4,#T_48d9c_row10_col5{\n            background:  yellow;\n        }</style><table id=\"T_48d9c_\" ><thead>    <tr>        <th class=\"blank level0\" ></th>        <th class=\"col_heading level0 col0\" >MAE</th>        <th class=\"col_heading level0 col1\" >MSE</th>        <th class=\"col_heading level0 col2\" >RMSE</th>        <th class=\"col_heading level0 col3\" >R2</th>        <th class=\"col_heading level0 col4\" >RMSLE</th>        <th class=\"col_heading level0 col5\" >MAPE</th>    </tr></thead><tbody>\n                <tr>\n                        <th id=\"T_48d9c_level0_row0\" class=\"row_heading level0 row0\" >0</th>\n                        <td id=\"T_48d9c_row0_col0\" class=\"data row0 col0\" >77.5432</td>\n                        <td id=\"T_48d9c_row0_col1\" class=\"data row0 col1\" >50171.5528</td>\n                        <td id=\"T_48d9c_row0_col2\" class=\"data row0 col2\" >223.9901</td>\n                        <td id=\"T_48d9c_row0_col3\" class=\"data row0 col3\" >0.9457</td>\n                        <td id=\"T_48d9c_row0_col4\" class=\"data row0 col4\" >1.2543</td>\n                        <td id=\"T_48d9c_row0_col5\" class=\"data row0 col5\" >0.6371</td>\n            </tr>\n            <tr>\n                        <th id=\"T_48d9c_level0_row1\" class=\"row_heading level0 row1\" >1</th>\n                        <td id=\"T_48d9c_row1_col0\" class=\"data row1 col0\" >86.2675</td>\n                        <td id=\"T_48d9c_row1_col1\" class=\"data row1 col1\" >163287.0492</td>\n                        <td id=\"T_48d9c_row1_col2\" class=\"data row1 col2\" >404.0879</td>\n                        <td id=\"T_48d9c_row1_col3\" class=\"data row1 col3\" >0.9001</td>\n                        <td id=\"T_48d9c_row1_col4\" class=\"data row1 col4\" >1.2915</td>\n                        <td id=\"T_48d9c_row1_col5\" class=\"data row1 col5\" >0.6954</td>\n            </tr>\n            <tr>\n                        <th id=\"T_48d9c_level0_row2\" class=\"row_heading level0 row2\" >2</th>\n                        <td id=\"T_48d9c_row2_col0\" class=\"data row2 col0\" >85.1299</td>\n                        <td id=\"T_48d9c_row2_col1\" class=\"data row2 col1\" >90993.1838</td>\n                        <td id=\"T_48d9c_row2_col2\" class=\"data row2 col2\" >301.6508</td>\n                        <td id=\"T_48d9c_row2_col3\" class=\"data row2 col3\" >0.9261</td>\n                        <td id=\"T_48d9c_row2_col4\" class=\"data row2 col4\" >1.2338</td>\n                        <td id=\"T_48d9c_row2_col5\" class=\"data row2 col5\" >0.6373</td>\n            </tr>\n            <tr>\n                        <th id=\"T_48d9c_level0_row3\" class=\"row_heading level0 row3\" >3</th>\n                        <td id=\"T_48d9c_row3_col0\" class=\"data row3 col0\" >95.2183</td>\n                        <td id=\"T_48d9c_row3_col1\" class=\"data row3 col1\" >217134.5424</td>\n                        <td id=\"T_48d9c_row3_col2\" class=\"data row3 col2\" >465.9770</td>\n                        <td id=\"T_48d9c_row3_col3\" class=\"data row3 col3\" >0.8858</td>\n                        <td id=\"T_48d9c_row3_col4\" class=\"data row3 col4\" >1.3366</td>\n                        <td id=\"T_48d9c_row3_col5\" class=\"data row3 col5\" >0.6777</td>\n            </tr>\n            <tr>\n                        <th id=\"T_48d9c_level0_row4\" class=\"row_heading level0 row4\" >4</th>\n                        <td id=\"T_48d9c_row4_col0\" class=\"data row4 col0\" >81.6441</td>\n                        <td id=\"T_48d9c_row4_col1\" class=\"data row4 col1\" >140692.9322</td>\n                        <td id=\"T_48d9c_row4_col2\" class=\"data row4 col2\" >375.0906</td>\n                        <td id=\"T_48d9c_row4_col3\" class=\"data row4 col3\" >0.9008</td>\n                        <td id=\"T_48d9c_row4_col4\" class=\"data row4 col4\" >1.2436</td>\n                        <td id=\"T_48d9c_row4_col5\" class=\"data row4 col5\" >0.7876</td>\n            </tr>\n            <tr>\n                        <th id=\"T_48d9c_level0_row5\" class=\"row_heading level0 row5\" >5</th>\n                        <td id=\"T_48d9c_row5_col0\" class=\"data row5 col0\" >62.7745</td>\n                        <td id=\"T_48d9c_row5_col1\" class=\"data row5 col1\" >23421.7041</td>\n                        <td id=\"T_48d9c_row5_col2\" class=\"data row5 col2\" >153.0415</td>\n                        <td id=\"T_48d9c_row5_col3\" class=\"data row5 col3\" >0.8990</td>\n                        <td id=\"T_48d9c_row5_col4\" class=\"data row5 col4\" >1.3307</td>\n                        <td id=\"T_48d9c_row5_col5\" class=\"data row5 col5\" >1.0753</td>\n            </tr>\n            <tr>\n                        <th id=\"T_48d9c_level0_row6\" class=\"row_heading level0 row6\" >6</th>\n                        <td id=\"T_48d9c_row6_col0\" class=\"data row6 col0\" >66.1703</td>\n                        <td id=\"T_48d9c_row6_col1\" class=\"data row6 col1\" >32225.5696</td>\n                        <td id=\"T_48d9c_row6_col2\" class=\"data row6 col2\" >179.5148</td>\n                        <td id=\"T_48d9c_row6_col3\" class=\"data row6 col3\" >0.9445</td>\n                        <td id=\"T_48d9c_row6_col4\" class=\"data row6 col4\" >1.1702</td>\n                        <td id=\"T_48d9c_row6_col5\" class=\"data row6 col5\" >0.5825</td>\n            </tr>\n            <tr>\n                        <th id=\"T_48d9c_level0_row7\" class=\"row_heading level0 row7\" >7</th>\n                        <td id=\"T_48d9c_row7_col0\" class=\"data row7 col0\" >77.7753</td>\n                        <td id=\"T_48d9c_row7_col1\" class=\"data row7 col1\" >128279.7562</td>\n                        <td id=\"T_48d9c_row7_col2\" class=\"data row7 col2\" >358.1616</td>\n                        <td id=\"T_48d9c_row7_col3\" class=\"data row7 col3\" >0.6882</td>\n                        <td id=\"T_48d9c_row7_col4\" class=\"data row7 col4\" >1.1892</td>\n                        <td id=\"T_48d9c_row7_col5\" class=\"data row7 col5\" >0.6662</td>\n            </tr>\n            <tr>\n                        <th id=\"T_48d9c_level0_row8\" class=\"row_heading level0 row8\" >8</th>\n                        <td id=\"T_48d9c_row8_col0\" class=\"data row8 col0\" >54.3070</td>\n                        <td id=\"T_48d9c_row8_col1\" class=\"data row8 col1\" >20115.3575</td>\n                        <td id=\"T_48d9c_row8_col2\" class=\"data row8 col2\" >141.8286</td>\n                        <td id=\"T_48d9c_row8_col3\" class=\"data row8 col3\" >0.8841</td>\n                        <td id=\"T_48d9c_row8_col4\" class=\"data row8 col4\" >1.2415</td>\n                        <td id=\"T_48d9c_row8_col5\" class=\"data row8 col5\" >1.2727</td>\n            </tr>\n            <tr>\n                        <th id=\"T_48d9c_level0_row9\" class=\"row_heading level0 row9\" >9</th>\n                        <td id=\"T_48d9c_row9_col0\" class=\"data row9 col0\" >49.0903</td>\n                        <td id=\"T_48d9c_row9_col1\" class=\"data row9 col1\" >17513.4719</td>\n                        <td id=\"T_48d9c_row9_col2\" class=\"data row9 col2\" >132.3385</td>\n                        <td id=\"T_48d9c_row9_col3\" class=\"data row9 col3\" >0.8758</td>\n                        <td id=\"T_48d9c_row9_col4\" class=\"data row9 col4\" >1.2189</td>\n                        <td id=\"T_48d9c_row9_col5\" class=\"data row9 col5\" >0.5610</td>\n            </tr>\n            <tr>\n                        <th id=\"T_48d9c_level0_row10\" class=\"row_heading level0 row10\" >Mean</th>\n                        <td id=\"T_48d9c_row10_col0\" class=\"data row10 col0\" >73.5920</td>\n                        <td id=\"T_48d9c_row10_col1\" class=\"data row10 col1\" >88383.5120</td>\n                        <td id=\"T_48d9c_row10_col2\" class=\"data row10 col2\" >273.5681</td>\n                        <td id=\"T_48d9c_row10_col3\" class=\"data row10 col3\" >0.8850</td>\n                        <td id=\"T_48d9c_row10_col4\" class=\"data row10 col4\" >1.2510</td>\n                        <td id=\"T_48d9c_row10_col5\" class=\"data row10 col5\" >0.7593</td>\n            </tr>\n            <tr>\n                        <th id=\"T_48d9c_level0_row11\" class=\"row_heading level0 row11\" >SD</th>\n                        <td id=\"T_48d9c_row11_col0\" class=\"data row11 col0\" >14.1555</td>\n                        <td id=\"T_48d9c_row11_col1\" class=\"data row11 col1\" >67111.2302</td>\n                        <td id=\"T_48d9c_row11_col2\" class=\"data row11 col2\" >116.3786</td>\n                        <td id=\"T_48d9c_row11_col3\" class=\"data row11 col3\" >0.0696</td>\n                        <td id=\"T_48d9c_row11_col4\" class=\"data row11 col4\" >0.0521</td>\n                        <td id=\"T_48d9c_row11_col5\" class=\"data row11 col5\" >0.2200</td>\n            </tr>\n    </tbody></table>"
     },
     "metadata": {}
    }
   ],
   "source": [
    "xfb = create_model('catboost')"
   ]
  },
  {
   "cell_type": "code",
   "execution_count": 33,
   "metadata": {
    "tags": []
   },
   "outputs": [
    {
     "output_type": "display_data",
     "data": {
      "text/plain": "<pandas.io.formats.style.Styler at 0x7fe7f4084130>",
      "text/html": "<style  type=\"text/css\" >\n#T_00927_row10_col0,#T_00927_row10_col1,#T_00927_row10_col2,#T_00927_row10_col3,#T_00927_row10_col4,#T_00927_row10_col5{\n            background:  yellow;\n        }</style><table id=\"T_00927_\" ><thead>    <tr>        <th class=\"blank level0\" ></th>        <th class=\"col_heading level0 col0\" >MAE</th>        <th class=\"col_heading level0 col1\" >MSE</th>        <th class=\"col_heading level0 col2\" >RMSE</th>        <th class=\"col_heading level0 col3\" >R2</th>        <th class=\"col_heading level0 col4\" >RMSLE</th>        <th class=\"col_heading level0 col5\" >MAPE</th>    </tr></thead><tbody>\n                <tr>\n                        <th id=\"T_00927_level0_row0\" class=\"row_heading level0 row0\" >0</th>\n                        <td id=\"T_00927_row0_col0\" class=\"data row0 col0\" >74.8738</td>\n                        <td id=\"T_00927_row0_col1\" class=\"data row0 col1\" >38991.6308</td>\n                        <td id=\"T_00927_row0_col2\" class=\"data row0 col2\" >197.4630</td>\n                        <td id=\"T_00927_row0_col3\" class=\"data row0 col3\" >0.9578</td>\n                        <td id=\"T_00927_row0_col4\" class=\"data row0 col4\" >1.7859</td>\n                        <td id=\"T_00927_row0_col5\" class=\"data row0 col5\" >0.6605</td>\n            </tr>\n            <tr>\n                        <th id=\"T_00927_level0_row1\" class=\"row_heading level0 row1\" >1</th>\n                        <td id=\"T_00927_row1_col0\" class=\"data row1 col0\" >95.7183</td>\n                        <td id=\"T_00927_row1_col1\" class=\"data row1 col1\" >272824.5169</td>\n                        <td id=\"T_00927_row1_col2\" class=\"data row1 col2\" >522.3261</td>\n                        <td id=\"T_00927_row1_col3\" class=\"data row1 col3\" >0.8331</td>\n                        <td id=\"T_00927_row1_col4\" class=\"data row1 col4\" >1.9056</td>\n                        <td id=\"T_00927_row1_col5\" class=\"data row1 col5\" >0.6588</td>\n            </tr>\n            <tr>\n                        <th id=\"T_00927_level0_row2\" class=\"row_heading level0 row2\" >2</th>\n                        <td id=\"T_00927_row2_col0\" class=\"data row2 col0\" >103.3760</td>\n                        <td id=\"T_00927_row2_col1\" class=\"data row2 col1\" >189264.3071</td>\n                        <td id=\"T_00927_row2_col2\" class=\"data row2 col2\" >435.0452</td>\n                        <td id=\"T_00927_row2_col3\" class=\"data row2 col3\" >0.8463</td>\n                        <td id=\"T_00927_row2_col4\" class=\"data row2 col4\" >1.7076</td>\n                        <td id=\"T_00927_row2_col5\" class=\"data row2 col5\" >0.6303</td>\n            </tr>\n            <tr>\n                        <th id=\"T_00927_level0_row3\" class=\"row_heading level0 row3\" >3</th>\n                        <td id=\"T_00927_row3_col0\" class=\"data row3 col0\" >101.3509</td>\n                        <td id=\"T_00927_row3_col1\" class=\"data row3 col1\" >295116.4125</td>\n                        <td id=\"T_00927_row3_col2\" class=\"data row3 col2\" >543.2462</td>\n                        <td id=\"T_00927_row3_col3\" class=\"data row3 col3\" >0.8448</td>\n                        <td id=\"T_00927_row3_col4\" class=\"data row3 col4\" >1.9695</td>\n                        <td id=\"T_00927_row3_col5\" class=\"data row3 col5\" >0.6436</td>\n            </tr>\n            <tr>\n                        <th id=\"T_00927_level0_row4\" class=\"row_heading level0 row4\" >4</th>\n                        <td id=\"T_00927_row4_col0\" class=\"data row4 col0\" >87.9456</td>\n                        <td id=\"T_00927_row4_col1\" class=\"data row4 col1\" >195151.6877</td>\n                        <td id=\"T_00927_row4_col2\" class=\"data row4 col2\" >441.7598</td>\n                        <td id=\"T_00927_row4_col3\" class=\"data row4 col3\" >0.8624</td>\n                        <td id=\"T_00927_row4_col4\" class=\"data row4 col4\" >1.6292</td>\n                        <td id=\"T_00927_row4_col5\" class=\"data row4 col5\" >0.8915</td>\n            </tr>\n            <tr>\n                        <th id=\"T_00927_level0_row5\" class=\"row_heading level0 row5\" >5</th>\n                        <td id=\"T_00927_row5_col0\" class=\"data row5 col0\" >59.8740</td>\n                        <td id=\"T_00927_row5_col1\" class=\"data row5 col1\" >18802.1396</td>\n                        <td id=\"T_00927_row5_col2\" class=\"data row5 col2\" >137.1209</td>\n                        <td id=\"T_00927_row5_col3\" class=\"data row5 col3\" >0.9190</td>\n                        <td id=\"T_00927_row5_col4\" class=\"data row5 col4\" >1.6412</td>\n                        <td id=\"T_00927_row5_col5\" class=\"data row5 col5\" >1.1802</td>\n            </tr>\n            <tr>\n                        <th id=\"T_00927_level0_row6\" class=\"row_heading level0 row6\" >6</th>\n                        <td id=\"T_00927_row6_col0\" class=\"data row6 col0\" >73.4581</td>\n                        <td id=\"T_00927_row6_col1\" class=\"data row6 col1\" >35440.7915</td>\n                        <td id=\"T_00927_row6_col2\" class=\"data row6 col2\" >188.2572</td>\n                        <td id=\"T_00927_row6_col3\" class=\"data row6 col3\" >0.9389</td>\n                        <td id=\"T_00927_row6_col4\" class=\"data row6 col4\" >1.6213</td>\n                        <td id=\"T_00927_row6_col5\" class=\"data row6 col5\" >0.7115</td>\n            </tr>\n            <tr>\n                        <th id=\"T_00927_level0_row7\" class=\"row_heading level0 row7\" >7</th>\n                        <td id=\"T_00927_row7_col0\" class=\"data row7 col0\" >77.1427</td>\n                        <td id=\"T_00927_row7_col1\" class=\"data row7 col1\" >120743.7951</td>\n                        <td id=\"T_00927_row7_col2\" class=\"data row7 col2\" >347.4821</td>\n                        <td id=\"T_00927_row7_col3\" class=\"data row7 col3\" >0.7065</td>\n                        <td id=\"T_00927_row7_col4\" class=\"data row7 col4\" >1.7255</td>\n                        <td id=\"T_00927_row7_col5\" class=\"data row7 col5\" >0.6760</td>\n            </tr>\n            <tr>\n                        <th id=\"T_00927_level0_row8\" class=\"row_heading level0 row8\" >8</th>\n                        <td id=\"T_00927_row8_col0\" class=\"data row8 col0\" >56.4414</td>\n                        <td id=\"T_00927_row8_col1\" class=\"data row8 col1\" >20770.2279</td>\n                        <td id=\"T_00927_row8_col2\" class=\"data row8 col2\" >144.1188</td>\n                        <td id=\"T_00927_row8_col3\" class=\"data row8 col3\" >0.8804</td>\n                        <td id=\"T_00927_row8_col4\" class=\"data row8 col4\" >1.6012</td>\n                        <td id=\"T_00927_row8_col5\" class=\"data row8 col5\" >1.4300</td>\n            </tr>\n            <tr>\n                        <th id=\"T_00927_level0_row9\" class=\"row_heading level0 row9\" >9</th>\n                        <td id=\"T_00927_row9_col0\" class=\"data row9 col0\" >51.3003</td>\n                        <td id=\"T_00927_row9_col1\" class=\"data row9 col1\" >15586.7901</td>\n                        <td id=\"T_00927_row9_col2\" class=\"data row9 col2\" >124.8471</td>\n                        <td id=\"T_00927_row9_col3\" class=\"data row9 col3\" >0.8894</td>\n                        <td id=\"T_00927_row9_col4\" class=\"data row9 col4\" >1.5621</td>\n                        <td id=\"T_00927_row9_col5\" class=\"data row9 col5\" >0.5600</td>\n            </tr>\n            <tr>\n                        <th id=\"T_00927_level0_row10\" class=\"row_heading level0 row10\" >Mean</th>\n                        <td id=\"T_00927_row10_col0\" class=\"data row10 col0\" >78.1481</td>\n                        <td id=\"T_00927_row10_col1\" class=\"data row10 col1\" >120269.2299</td>\n                        <td id=\"T_00927_row10_col2\" class=\"data row10 col2\" >308.1666</td>\n                        <td id=\"T_00927_row10_col3\" class=\"data row10 col3\" >0.8679</td>\n                        <td id=\"T_00927_row10_col4\" class=\"data row10 col4\" >1.7149</td>\n                        <td id=\"T_00927_row10_col5\" class=\"data row10 col5\" >0.8042</td>\n            </tr>\n            <tr>\n                        <th id=\"T_00927_level0_row11\" class=\"row_heading level0 row11\" >SD</th>\n                        <td id=\"T_00927_row11_col0\" class=\"data row11 col0\" >17.7177</td>\n                        <td id=\"T_00927_row11_col1\" class=\"data row11 col1\" >104483.7443</td>\n                        <td id=\"T_00927_row11_col2\" class=\"data row11 col2\" >159.0678</td>\n                        <td id=\"T_00927_row11_col3\" class=\"data row11 col3\" >0.0668</td>\n                        <td id=\"T_00927_row11_col4\" class=\"data row11 col4\" >0.1281</td>\n                        <td id=\"T_00927_row11_col5\" class=\"data row11 col5\" >0.2689</td>\n            </tr>\n    </tbody></table>"
     },
     "metadata": {}
    }
   ],
   "source": [
    "tuned_xg = tune_model(xfb)"
   ]
  },
  {
   "cell_type": "code",
   "execution_count": 34,
   "metadata": {},
   "outputs": [
    {
     "output_type": "execute_result",
     "data": {
      "text/plain": [
       "<catboost.core.CatBoostRegressor at 0x7fe7f4084100>"
      ]
     },
     "metadata": {},
     "execution_count": 34
    }
   ],
   "source": [
    "finalize_model(xfb)"
   ]
  },
  {
   "cell_type": "code",
   "execution_count": 19,
   "metadata": {},
   "outputs": [],
   "source": [
    "yf = predict_model(xfb,test)"
   ]
  },
  {
   "cell_type": "code",
   "execution_count": 22,
   "metadata": {},
   "outputs": [],
   "source": [
    "pd.DataFrame({'revenue':yf['Label']}).to_csv(\"submission2.csv\")"
   ]
  },
  {
   "cell_type": "code",
   "execution_count": 36,
   "metadata": {},
   "outputs": [
    {
     "output_type": "execute_result",
     "data": {
      "text/plain": [
       "[PhysicalDevice(name='/physical_device:CPU:0', device_type='CPU')]"
      ]
     },
     "metadata": {},
     "execution_count": 36
    }
   ],
   "source": [
    "import tensorflow as tf \n",
    "tf.config.list_physical_devices()"
   ]
  },
  {
   "cell_type": "code",
   "execution_count": null,
   "metadata": {},
   "outputs": [],
   "source": []
  },
  {
   "cell_type": "code",
   "execution_count": null,
   "metadata": {},
   "outputs": [],
   "source": []
  }
 ],
 "metadata": {
  "interpreter": {
   "hash": "916dbcbb3f70747c44a77c7bcd40155683ae19c65e1c03b4aa3499c5328201f1"
  },
  "kernelspec": {
   "name": "python3",
   "display_name": "Python 3.8.10 64-bit"
  },
  "language_info": {
   "codemirror_mode": {
    "name": "ipython",
    "version": 3
   },
   "file_extension": ".py",
   "mimetype": "text/x-python",
   "name": "python",
   "nbconvert_exporter": "python",
   "pygments_lexer": "ipython3",
   "version": "3.8.10"
  }
 },
 "nbformat": 4,
 "nbformat_minor": 2
}